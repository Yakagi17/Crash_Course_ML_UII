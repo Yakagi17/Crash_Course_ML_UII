{
  "nbformat": 4,
  "nbformat_minor": 0,
  "metadata": {
    "colab": {
      "name": "[31 5] Transfer Learning CIFAR-10 - ADF",
      "provenance": [],
      "collapsed_sections": [],
      "toc_visible": true,
      "include_colab_link": true
    },
    "kernelspec": {
      "name": "python3",
      "display_name": "Python 3"
    },
    "accelerator": "GPU"
  },
  "cells": [
    {
      "cell_type": "markdown",
      "metadata": {
        "id": "view-in-github",
        "colab_type": "text"
      },
      "source": [
        "<a href=\"https://colab.research.google.com/github/Yakagi17/Transfer_Learning_FGA_UII/blob/master/%5B31_5%5D_Transfer_Learning_CIFAR_10_ADF.ipynb\" target=\"_parent\"><img src=\"https://colab.research.google.com/assets/colab-badge.svg\" alt=\"Open In Colab\"/></a>"
      ]
    },
    {
      "cell_type": "markdown",
      "metadata": {
        "id": "EfwbLGN0zdro",
        "colab_type": "text"
      },
      "source": [
        "<img src = \"https://i.imgur.com/UjutVJd.jpg\" align = \"center\">"
      ]
    },
    {
      "cell_type": "markdown",
      "metadata": {
        "colab_type": "text",
        "id": "X3rE7ne2YdkP"
      },
      "source": [
        "# Transfer Learning\n",
        "Di sini kita akan mencoba melatih VGG16 untuk mengklasifikasikan dataset CIFAR-10\n",
        "\n",
        "Kema yang akan kita coba antara lain:\n",
        "* Melatih VGG16 dari awal (bobot random)\n",
        "* Melatih VGG16 dari awal dengan Data Augmentasi\n",
        "* Melatih keseluruhan pretrained VGG16 (sudah dilatih menggunakan ImageNet)\n",
        "* Melatih hanya Layer FC dari pretrained VGG16\n",
        "* Melatih beberapa layer dari pretrained VGG16\n",
        "\n"
      ]
    },
    {
      "cell_type": "code",
      "metadata": {
        "colab_type": "code",
        "id": "uPBaOetUYdkN",
        "colab": {}
      },
      "source": [
        "import numpy as np\n",
        "import matplotlib.pyplot as plt\n",
        "import tensorflow as tf\n",
        "%matplotlib inline\n",
        "\n",
        "np.set_printoptions(precision=7)\n",
        "\n",
        "from tensorflow.keras.models import Sequential\n",
        "from tensorflow.keras.layers import Flatten\n",
        "from tensorflow.keras.layers import Dense\n",
        "from tensorflow.keras.layers import Activation\n",
        "from tensorflow.keras.layers import GlobalAveragePooling2D\n",
        "from tensorflow.keras import Model\n",
        "from tensorflow.keras.layers import Input\n",
        "\n",
        "from tensorflow.keras.utils import to_categorical\n",
        "from tensorflow.keras import backend as K\n",
        "\n",
        "from tensorflow.keras.applications.vgg16 import VGG16\n",
        "from tensorflow.keras.applications.vgg16 import preprocess_input\n",
        "from tensorflow.keras.preprocessing import image\n"
      ],
      "execution_count": 0,
      "outputs": []
    },
    {
      "cell_type": "markdown",
      "metadata": {
        "colab_type": "text",
        "id": "UIzMk5IuYdkN"
      },
      "source": [
        "# CIFAR-10 Dataset"
      ]
    },
    {
      "cell_type": "markdown",
      "metadata": {
        "colab_type": "text",
        "id": "cyGQ0E5DYdkL"
      },
      "source": [
        "## Load CIFAR-10 Dataset"
      ]
    },
    {
      "cell_type": "code",
      "metadata": {
        "colab_type": "code",
        "id": "_KTLHd3LYdkI",
        "colab": {}
      },
      "source": [
        "from tensorflow.keras.datasets import cifar10\n",
        "\n",
        "(X_train, y_train), (X_test, y_test) = cifar10.load_data()\n",
        "\n",
        "print('X_train.shape =',X_train.shape)\n",
        "print('y_train.shape =',y_train.shape)\n",
        "print('X_test.shape  =',X_test.shape)\n",
        "print('y_test.shape  =',y_test.shape)\n",
        "\n",
        "X_val = X_train[-10000:,:]\n",
        "y_val = y_train[-10000:]\n",
        "X_train = X_train[:-10000, :]\n",
        "y_train = y_train[:-10000]\n",
        "\n",
        "print('X_val.shape   =',X_val.shape)\n",
        "print('y_val.shape   =',y_val.shape)\n",
        "print('X_train.shape =',X_train.shape)\n",
        "print('y_train.shape =',y_train.shape)"
      ],
      "execution_count": 0,
      "outputs": []
    },
    {
      "cell_type": "markdown",
      "metadata": {
        "colab_type": "text",
        "id": "WlrNxIfYYdkI"
      },
      "source": [
        "## Normalize Images"
      ]
    },
    {
      "cell_type": "code",
      "metadata": {
        "colab_type": "code",
        "id": "uM1DpkksYdkG",
        "colab": {}
      },
      "source": [
        "X_train = X_train.astype('float32')\n",
        "X_val = X_val.astype('float32')\n",
        "X_test = X_test.astype('float32')\n",
        "\n",
        "mean_image = np.mean(X_train, axis = 0)\n",
        "X_train -= mean_image\n",
        "X_val -= mean_image\n",
        "X_test -= mean_image\n",
        "\n",
        "y_train_hot = to_categorical(y_train)\n",
        "y_val_hot = to_categorical(y_val)\n",
        "y_test_hot = to_categorical(y_test)\n",
        "\n",
        "print('y_train_hot.shape =',y_train_hot.shape)\n",
        "print('y_val_hot.shape   =',y_val_hot.shape)\n",
        "print('y_test_hot.shape  =',y_test_hot.shape)"
      ],
      "execution_count": 0,
      "outputs": []
    },
    {
      "cell_type": "markdown",
      "metadata": {
        "colab_type": "text",
        "id": "pKghE730YdkF"
      },
      "source": [
        "## Define Input-output shape"
      ]
    },
    {
      "cell_type": "code",
      "metadata": {
        "colab_type": "code",
        "id": "JPFI8K1vYdkD",
        "colab": {}
      },
      "source": [
        "input_shape = X_train.shape[1:]\n",
        "num_class = 10\n",
        "\n",
        "batch_size = 512\n",
        "epochs = 10\n",
        "opt = tf.keras.optimizers.Adam(lr=0.0001, decay=1e-6)"
      ],
      "execution_count": 0,
      "outputs": []
    },
    {
      "cell_type": "markdown",
      "metadata": {
        "colab_type": "text",
        "id": "whpRpWJ3YdkC"
      },
      "source": [
        "# Custom VGG16 for Cifar-10\n",
        "\n",
        "Untuk kasus ini, kita akan gunakan arsitektur VGG16 dengan input berukuran (32, 32, 3) sesuai inpuut data Cifar-10\n",
        "\n",
        "Untuk kepala output, setelah MaxPool terakhir, kita akan gunakan tambahkan 3 layer:\n",
        "* `Global Average Pooling`\n",
        "* `Dense(1024, 'relu')`\n",
        "* `Dense(10, 'softmax')`\n",
        "\n",
        "<br>\n",
        "\n",
        "Penambahan layer `GlobalAveragePooling2D` bisa digantikan dengan menambahkan parameter `pooling='avg'` pada saat mengunduh model VGG16 dengan `include_top=False`"
      ]
    },
    {
      "cell_type": "markdown",
      "metadata": {
        "colab_type": "text",
        "id": "3xxz6lsdYdkB"
      },
      "source": [
        "# Train VGG16 from Scratch"
      ]
    },
    {
      "cell_type": "code",
      "metadata": {
        "colab_type": "code",
        "id": "vSIZ4au9Ydj_",
        "colab": {}
      },
      "source": [
        "model = VGG16(weights=None, include_top=False, input_shape=input_shape, pooling='avg')\n",
        "\n",
        "x = model.output\n",
        "x = Dense(1024, activation='relu')(x)\n",
        "predictions = Dense(num_class, activation='softmax')(x)\n",
        "\n",
        "myModel_scratch = Model(inputs=model.input, outputs=predictions, name='VGG Scratch')\n",
        "myModel_scratch.summary()"
      ],
      "execution_count": 0,
      "outputs": []
    },
    {
      "cell_type": "markdown",
      "metadata": {
        "colab_type": "text",
        "id": "G-IJRpHZYdj-"
      },
      "source": [
        "Sekarang mari kita latih model pertama kita CIFAR-10"
      ]
    },
    {
      "cell_type": "code",
      "metadata": {
        "colab_type": "code",
        "id": "yemMFAh3Ydj8",
        "colab": {}
      },
      "source": [
        "myModel_scratch.compile(loss='categorical_crossentropy',\n",
        "                        optimizer=opt, metrics=['accuracy'])"
      ],
      "execution_count": 0,
      "outputs": []
    },
    {
      "cell_type": "code",
      "metadata": {
        "colab_type": "code",
        "id": "AAYMugV5Ydj5",
        "colab": {}
      },
      "source": [
        "hist_scratch = myModel_scratch.fit(X_train, y_train_hot,\n",
        "                    batch_size=batch_size,\n",
        "                    epochs=epochs,\n",
        "                    validation_data=(X_val, y_val_hot),\n",
        "                    shuffle=True)"
      ],
      "execution_count": 0,
      "outputs": []
    },
    {
      "cell_type": "code",
      "metadata": {
        "colab_type": "code",
        "id": "Xtzx5gV-Ydj1",
        "colab": {}
      },
      "source": [
        "plt.rcParams['figure.figsize'] = [7, 5]\n",
        "\n",
        "plt.plot(hist_scratch.history['acc'], label='train')\n",
        "plt.plot(hist_scratch.history['val_acc'], label='val')\n",
        "plt.xlabel('Epoch')\n",
        "plt.ylabel('Accuracy')\n",
        "plt.legend()\n",
        "plt.show()"
      ],
      "execution_count": 0,
      "outputs": []
    },
    {
      "cell_type": "code",
      "metadata": {
        "colab_type": "code",
        "id": "ttpa4PvsYdj0",
        "colab": {}
      },
      "source": [
        "scores_scratch = myModel_scratch.evaluate(X_test, y_test_hot, verbose=1)"
      ],
      "execution_count": 0,
      "outputs": []
    },
    {
      "cell_type": "code",
      "metadata": {
        "colab_type": "code",
        "id": "GaKXtOmPYdjw",
        "colab": {}
      },
      "source": [
        "print('Test loss    :', scores_scratch[0])\n",
        "print('Test accuracy: %.2f%%' % (scores_scratch[1]*100))"
      ],
      "execution_count": 0,
      "outputs": []
    },
    {
      "cell_type": "markdown",
      "metadata": {
        "colab_type": "text",
        "id": "9uAEWdtsYdjw"
      },
      "source": [
        "Dapat dilihat, melatih VGG16 pada dataset CIFAR-10 membuat overfit"
      ]
    },
    {
      "cell_type": "markdown",
      "metadata": {
        "colab_type": "text",
        "id": "4S5hc83oYdjv"
      },
      "source": [
        "# Train VGG16 from Scratch with Data Autmentation"
      ]
    },
    {
      "cell_type": "code",
      "metadata": {
        "colab_type": "code",
        "id": "FXfrbiAXYdjs",
        "colab": {}
      },
      "source": [
        "model = VGG16(weights=None, include_top=False, input_shape=input_shape, pooling='avg')\n",
        "\n",
        "x = model.output\n",
        "x = Dense(1024, activation='relu')(x)\n",
        "predictions = Dense(num_class, activation='softmax')(x)\n",
        "\n",
        "myModel_aug = Model(inputs=model.input, outputs=predictions, name='VGG Augmented')\n",
        "myModel_aug.summary()"
      ],
      "execution_count": 0,
      "outputs": []
    },
    {
      "cell_type": "markdown",
      "metadata": {
        "colab_type": "text",
        "id": "8OyIZ6L-Ydjr"
      },
      "source": [
        "Define Data Autmentation schedule"
      ]
    },
    {
      "cell_type": "code",
      "metadata": {
        "colab_type": "code",
        "id": "K-_Gmx2dYdjp",
        "colab": {}
      },
      "source": [
        "from tensorflow.keras.preprocessing.image import ImageDataGenerator\n",
        "\n",
        "datagen = ImageDataGenerator(\n",
        "    width_shift_range=0.1,\n",
        "    height_shift_range=0.1,\n",
        "    horizontal_flip=True,\n",
        "    vertical_flip=False)"
      ],
      "execution_count": 0,
      "outputs": []
    },
    {
      "cell_type": "markdown",
      "metadata": {
        "colab_type": "text",
        "id": "rDaDuSXvYdjo"
      },
      "source": [
        "Perform Data Augmentation"
      ]
    },
    {
      "cell_type": "code",
      "metadata": {
        "colab_type": "code",
        "id": "fpcLT6UwYdjl",
        "colab": {}
      },
      "source": [
        "datagen.fit(X_train)"
      ],
      "execution_count": 0,
      "outputs": []
    },
    {
      "cell_type": "code",
      "metadata": {
        "scrolled": true,
        "colab_type": "code",
        "id": "wRUNC4fdYdji",
        "colab": {}
      },
      "source": [
        "myModel_aug.compile(loss='categorical_crossentropy',\n",
        "                        optimizer=opt, metrics=['accuracy'])\n",
        "\n",
        "hist_aug = myModel_aug.fit_generator(datagen.flow(X_train, y_train_hot,\n",
        "                                             batch_size=batch_size),\n",
        "                                epochs=epochs,\n",
        "                                validation_data=(X_val, y_val_hot))"
      ],
      "execution_count": 0,
      "outputs": []
    },
    {
      "cell_type": "code",
      "metadata": {
        "colab_type": "code",
        "id": "jVQbBBAfYdjg",
        "colab": {}
      },
      "source": [
        "plt.rcParams['figure.figsize'] = [7, 5]\n",
        "\n",
        "plt.plot(hist_aug.history['acc'], label='train')\n",
        "plt.plot(hist_aug.history['val_acc'], label='val')\n",
        "plt.xlabel('Epoch')\n",
        "plt.ylabel('Accuracy')\n",
        "plt.legend()\n",
        "plt.show()\n"
      ],
      "execution_count": 0,
      "outputs": []
    },
    {
      "cell_type": "code",
      "metadata": {
        "colab_type": "code",
        "id": "f74vDZzUYdjd",
        "colab": {}
      },
      "source": [
        "plt.rcParams['figure.figsize'] = [15, 5]\n",
        "\n",
        "plt.subplot(1, 2, 1)\n",
        "plt.plot(hist_scratch.history['acc'], label='scratch')\n",
        "plt.plot(hist_aug.history['acc'], label='aug')\n",
        "plt.xlabel('Epoch')\n",
        "plt.ylabel('Train Acc')\n",
        "plt.legend()\n",
        "\n",
        "plt.subplot(1, 2, 2)\n",
        "plt.plot(hist_scratch.history['val_acc'], label='scratch')\n",
        "plt.plot(hist_aug.history['val_acc'], label='aug')\n",
        "plt.xlabel('Epoch')\n",
        "plt.ylabel('Val Acc')\n",
        "plt.legend()\n",
        "plt.show()\n",
        "\n"
      ],
      "execution_count": 0,
      "outputs": []
    },
    {
      "cell_type": "code",
      "metadata": {
        "colab_type": "code",
        "id": "mO7JUN-pYdja",
        "colab": {}
      },
      "source": [
        "scores_aug = myModel_aug.evaluate(X_test, y_test_hot, verbose=1)"
      ],
      "execution_count": 0,
      "outputs": []
    },
    {
      "cell_type": "code",
      "metadata": {
        "colab_type": "code",
        "id": "8NTWrF-8YdjW",
        "colab": {}
      },
      "source": [
        "print('Test loss    :', scores_aug[0])\n",
        "print('Test accuracy: %.2f%%' % (scores_aug[1]*100))"
      ],
      "execution_count": 0,
      "outputs": []
    },
    {
      "cell_type": "markdown",
      "metadata": {
        "colab_type": "text",
        "id": "VWdXdRpeYdjV"
      },
      "source": [
        "Dapat dilihat, Augmentasi Data dapat memperkecil overfitting"
      ]
    },
    {
      "cell_type": "markdown",
      "metadata": {
        "colab_type": "text",
        "id": "jDQhKx4kYdjU"
      },
      "source": [
        "# Train ImageNet-pretrained VGG16\n",
        "\n",
        "Load model pretrained VGG without the top FC layer,\n",
        "\n",
        "this code below will download new model without the top FC Layer"
      ]
    },
    {
      "cell_type": "code",
      "metadata": {
        "colab_type": "code",
        "id": "_f5ysqBTYdjS",
        "colab": {}
      },
      "source": [
        "model = VGG16(weights='imagenet', include_top=False, input_shape=input_shape, pooling='avg')\n",
        "\n",
        "x = model.output\n",
        "x = Dense(1024, activation='relu')(x)\n",
        "predictions = Dense(num_class, activation='softmax')(x)\n",
        "\n",
        "myModel_imagenet = Model(inputs=model.input, outputs=predictions, name='VGG ImageNet')\n",
        "myModel_imagenet.summary()"
      ],
      "execution_count": 0,
      "outputs": []
    },
    {
      "cell_type": "code",
      "metadata": {
        "colab_type": "code",
        "id": "72Xb4wPCYdjO",
        "colab": {}
      },
      "source": [
        "myModel_imagenet.compile(loss='categorical_crossentropy',\n",
        "                        optimizer=opt, metrics=['accuracy'])"
      ],
      "execution_count": 0,
      "outputs": []
    },
    {
      "cell_type": "code",
      "metadata": {
        "colab_type": "code",
        "id": "iYFu-2ZtYdjM",
        "colab": {}
      },
      "source": [
        "hist_imagenet = myModel_imagenet.fit(X_train, y_train_hot,\n",
        "                    batch_size=batch_size,\n",
        "                    epochs=epochs,\n",
        "                    validation_data=(X_val, y_val_hot),\n",
        "                    shuffle=True)"
      ],
      "execution_count": 0,
      "outputs": []
    },
    {
      "cell_type": "code",
      "metadata": {
        "colab_type": "code",
        "id": "uMCMDH6dYdjJ",
        "colab": {}
      },
      "source": [
        "plt.rcParams['figure.figsize'] = [7, 5]\n",
        "\n",
        "plt.plot(hist_imagenet.history['acc'], label='train')\n",
        "plt.plot(hist_imagenet.history['val_acc'], label='val')\n",
        "plt.xlabel('Epoch')\n",
        "plt.ylabel('Accuracy')\n",
        "plt.legend()\n",
        "plt.show()\n"
      ],
      "execution_count": 0,
      "outputs": []
    },
    {
      "cell_type": "code",
      "metadata": {
        "colab_type": "code",
        "id": "6KJIm7bIYdjH",
        "colab": {}
      },
      "source": [
        "plt.rcParams['figure.figsize'] = [15, 5]\n",
        "\n",
        "plt.subplot(1, 2, 1)\n",
        "plt.plot(hist_scratch.history['acc'], label='scratch')\n",
        "plt.plot(hist_aug.history['acc'], label='aug')\n",
        "plt.plot(hist_imagenet.history['acc'], label='imagenet')\n",
        "plt.xlabel('Epoch')\n",
        "plt.ylabel('Train Acc')\n",
        "plt.legend()\n",
        "\n",
        "plt.subplot(1, 2, 2)\n",
        "plt.plot(hist_scratch.history['val_acc'], label='scratch')\n",
        "plt.plot(hist_aug.history['val_acc'], label='aug')\n",
        "plt.plot(hist_imagenet.history['val_acc'], label='imagenet')\n",
        "plt.xlabel('Epoch')\n",
        "plt.ylabel('Val Acc')\n",
        "plt.legend()\n",
        "plt.show()\n",
        "\n"
      ],
      "execution_count": 0,
      "outputs": []
    },
    {
      "cell_type": "code",
      "metadata": {
        "colab_type": "code",
        "id": "iiZyQV_wYdjE",
        "colab": {}
      },
      "source": [
        "scores_imagenet = myModel_imagenet.evaluate(X_test, y_test_hot, verbose=1)"
      ],
      "execution_count": 0,
      "outputs": []
    },
    {
      "cell_type": "code",
      "metadata": {
        "colab_type": "code",
        "id": "mud24m73YdjA",
        "colab": {}
      },
      "source": [
        "print('Test loss    :', scores_imagenet[0])\n",
        "print('Test accuracy: %.2f%%' % (scores_imagenet[1]*100))"
      ],
      "execution_count": 0,
      "outputs": []
    },
    {
      "cell_type": "markdown",
      "metadata": {
        "colab_type": "text",
        "id": "JvYQuEqrYdjA"
      },
      "source": [
        "Penggunaan Pretrained Model membuat model belajar lebih cepat, dengan masih menjaga dari overfitting meskipun tanpa Augmentasi Data "
      ]
    },
    {
      "cell_type": "markdown",
      "metadata": {
        "colab_type": "text",
        "id": "hovDGlNzYdi-"
      },
      "source": [
        "# Train FC layer of ImageNet-pretrained VGG16\n",
        "\n",
        "Load model pretrained VGG without the top FC layer,"
      ]
    },
    {
      "cell_type": "code",
      "metadata": {
        "colab_type": "code",
        "id": "b4qO7Yy8Ydi6",
        "colab": {}
      },
      "source": [
        "model = VGG16(weights='imagenet', include_top=False, input_shape=input_shape, pooling='avg')"
      ],
      "execution_count": 0,
      "outputs": []
    },
    {
      "cell_type": "markdown",
      "metadata": {
        "colab_type": "text",
        "id": "o4I1Yh_rYdi6"
      },
      "source": [
        "Let's freeze the pretrained model so it won't be changed during training"
      ]
    },
    {
      "cell_type": "code",
      "metadata": {
        "colab_type": "code",
        "id": "0iMGx8uXYdi3",
        "colab": {}
      },
      "source": [
        "for layer in model.layers:\n",
        "    layer.trainable = False    "
      ],
      "execution_count": 0,
      "outputs": []
    },
    {
      "cell_type": "markdown",
      "metadata": {
        "colab_type": "text",
        "id": "jEUcKTCGYdi2"
      },
      "source": [
        "Add new layers"
      ]
    },
    {
      "cell_type": "code",
      "metadata": {
        "colab_type": "code",
        "id": "pt9KtIlvYdiy",
        "colab": {}
      },
      "source": [
        "x = model.output\n",
        "x = Dense(1024, activation='relu')(x)\n",
        "predictions = Dense(num_class, activation='softmax')(x)\n",
        "\n",
        "myModel_fc = Model(inputs=model.input, outputs=predictions, name='VGG FC')\n",
        "myModel_fc.summary()"
      ],
      "execution_count": 0,
      "outputs": []
    },
    {
      "cell_type": "code",
      "metadata": {
        "colab_type": "code",
        "id": "3T0kqQFSYdiv",
        "colab": {}
      },
      "source": [
        "myModel_fc.compile(loss='categorical_crossentropy',\n",
        "                        optimizer=opt, metrics=['accuracy'])"
      ],
      "execution_count": 0,
      "outputs": []
    },
    {
      "cell_type": "code",
      "metadata": {
        "colab_type": "code",
        "id": "ZozOUVihYdit",
        "colab": {}
      },
      "source": [
        "hist_fc = myModel_fc.fit(X_train, y_train_hot,\n",
        "                    batch_size=batch_size,\n",
        "                    epochs=epochs,\n",
        "                    validation_data=(X_val, y_val_hot),\n",
        "                    shuffle=True)"
      ],
      "execution_count": 0,
      "outputs": []
    },
    {
      "cell_type": "code",
      "metadata": {
        "colab_type": "code",
        "id": "PBFx5gJCYdio",
        "colab": {}
      },
      "source": [
        "plt.rcParams['figure.figsize'] = [7, 5]\n",
        "\n",
        "plt.plot(hist_fc.history['acc'], label='train')\n",
        "plt.plot(hist_fc.history['val_acc'], label='val')\n",
        "plt.xlabel('Epoch')\n",
        "plt.ylabel('Accuracy')\n",
        "plt.legend()\n",
        "plt.show()\n"
      ],
      "execution_count": 0,
      "outputs": []
    },
    {
      "cell_type": "code",
      "metadata": {
        "colab_type": "code",
        "id": "Vv5ZYdkjYdil",
        "colab": {}
      },
      "source": [
        "plt.rcParams['figure.figsize'] = [15, 5]\n",
        "\n",
        "plt.subplot(1, 2, 1)\n",
        "plt.plot(hist_scratch.history['acc'], label='scratch')\n",
        "plt.plot(hist_aug.history['acc'], label='aug')\n",
        "plt.plot(hist_imagenet.history['acc'], label='imagenet')\n",
        "plt.plot(hist_fc.history['acc'], label='fc')\n",
        "plt.xlabel('Epoch')\n",
        "plt.ylabel('Train Acc')\n",
        "plt.legend()\n",
        "\n",
        "plt.subplot(1, 2, 2)\n",
        "plt.plot(hist_scratch.history['val_acc'], label='scratch')\n",
        "plt.plot(hist_aug.history['val_acc'], label='aug')\n",
        "plt.plot(hist_imagenet.history['val_acc'], label='imagenet')\n",
        "plt.plot(hist_fc.history['val_acc'], label='fc')\n",
        "plt.xlabel('Epoch')\n",
        "plt.ylabel('Val Acc')\n",
        "plt.legend()\n",
        "plt.show()\n",
        "\n"
      ],
      "execution_count": 0,
      "outputs": []
    },
    {
      "cell_type": "code",
      "metadata": {
        "colab_type": "code",
        "id": "_CzuEpiEYdih",
        "colab": {}
      },
      "source": [
        "scores_fc = myModel_fc.evaluate(X_test, y_test_hot, verbose=1)"
      ],
      "execution_count": 0,
      "outputs": []
    },
    {
      "cell_type": "code",
      "metadata": {
        "colab_type": "code",
        "id": "e2H3x4bmYdic",
        "colab": {}
      },
      "source": [
        "print('Test loss    :', scores_fc[0])\n",
        "print('Test accuracy: %.2f%%' % (scores_fc[1]*100))"
      ],
      "execution_count": 0,
      "outputs": []
    },
    {
      "cell_type": "markdown",
      "metadata": {
        "colab_type": "text",
        "id": "UW40UOfeYdib"
      },
      "source": [
        "# Train Selected Layers"
      ]
    },
    {
      "cell_type": "markdown",
      "metadata": {
        "colab_type": "text",
        "id": "BJWgICRHYdia"
      },
      "source": [
        "we can also choose which layer to train and which layer to freeze\n",
        "\n",
        "First let's see the layer ID and name"
      ]
    },
    {
      "cell_type": "code",
      "metadata": {
        "colab_type": "code",
        "id": "s0MURdVHYdiW",
        "colab": {}
      },
      "source": [
        "model = VGG16(weights='imagenet', include_top=False, input_shape=input_shape, pooling='avg')\n",
        "\n",
        "x = model.output\n",
        "x = Dense(1024, activation='relu')(x)\n",
        "predictions = Dense(num_class, activation='softmax')(x)\n",
        "\n",
        "myModel_selected = Model(inputs=model.input, outputs=predictions, name='VGG Selected')"
      ],
      "execution_count": 0,
      "outputs": []
    },
    {
      "cell_type": "code",
      "metadata": {
        "colab_type": "code",
        "id": "yCO2rs5qYdiR",
        "colab": {}
      },
      "source": [
        "for i, layer in enumerate(myModel_selected.layers):\n",
        "    print(i, layer.name)"
      ],
      "execution_count": 0,
      "outputs": []
    },
    {
      "cell_type": "markdown",
      "metadata": {
        "colab_type": "text",
        "id": "dNZ_Uv_6YdiP"
      },
      "source": [
        "Choose which to freeze"
      ]
    },
    {
      "cell_type": "code",
      "metadata": {
        "colab_type": "code",
        "id": "bY50eZwQYdiM",
        "colab": {}
      },
      "source": [
        "for layer in myModel_selected.layers[:16]:\n",
        "    layer.trainable = False\n",
        "for layer in myModel_selected.layers[16:]:\n",
        "    layer.trainable = True\n",
        "    \n",
        "myModel_selected.summary()"
      ],
      "execution_count": 0,
      "outputs": []
    },
    {
      "cell_type": "code",
      "metadata": {
        "colab_type": "code",
        "id": "aZIgDoJlYdiJ",
        "colab": {}
      },
      "source": [
        "myModel_selected.compile(loss='categorical_crossentropy',\n",
        "                        optimizer=opt, metrics=['accuracy'])\n"
      ],
      "execution_count": 0,
      "outputs": []
    },
    {
      "cell_type": "code",
      "metadata": {
        "colab_type": "code",
        "id": "XFbclrw_YdiE",
        "colab": {}
      },
      "source": [
        "hist_selected = myModel_selected.fit(X_train, y_train_hot,\n",
        "                    batch_size=batch_size,\n",
        "                    epochs=epochs,\n",
        "                    validation_data=(X_val, y_val_hot),\n",
        "                    shuffle=True)"
      ],
      "execution_count": 0,
      "outputs": []
    },
    {
      "cell_type": "code",
      "metadata": {
        "colab_type": "code",
        "id": "bV_xQPmAYdiA",
        "colab": {}
      },
      "source": [
        "plt.rcParams['figure.figsize'] = [7, 5]\n",
        "\n",
        "plt.plot(hist_selected.history['acc'], label='train')\n",
        "plt.plot(hist_selected.history['val_acc'], label='val')\n",
        "plt.xlabel('Epoch')\n",
        "plt.ylabel('Accuracy')\n",
        "plt.legend()\n",
        "plt.show()\n"
      ],
      "execution_count": 0,
      "outputs": []
    },
    {
      "cell_type": "code",
      "metadata": {
        "colab_type": "code",
        "id": "EWcwWNfnYdh8",
        "colab": {}
      },
      "source": [
        "plt.rcParams['figure.figsize'] = [15, 5]\n",
        "\n",
        "plt.subplot(1, 2, 1)\n",
        "plt.plot(hist_scratch.history['acc'], label='scratch')\n",
        "plt.plot(hist_aug.history['acc'], label='aug')\n",
        "plt.plot(hist_imagenet.history['acc'], label='imagenet')\n",
        "plt.plot(hist_fc.history['acc'], label='fc')\n",
        "plt.plot(hist_selected.history['acc'], label='selected')\n",
        "plt.xlabel('Epoch')\n",
        "plt.ylabel('Train Acc')\n",
        "plt.legend()\n",
        "\n",
        "plt.subplot(1, 2, 2)\n",
        "plt.plot(hist_scratch.history['val_acc'], label='scratch')\n",
        "plt.plot(hist_aug.history['val_acc'], label='aug')\n",
        "plt.plot(hist_imagenet.history['val_acc'], label='imagenet')\n",
        "plt.plot(hist_fc.history['val_acc'], label='fc')\n",
        "plt.plot(hist_selected.history['val_acc'], label='selected')\n",
        "plt.xlabel('Epoch')\n",
        "plt.ylabel('Val Acc')\n",
        "plt.legend()\n",
        "plt.show()\n",
        "\n"
      ],
      "execution_count": 0,
      "outputs": []
    },
    {
      "cell_type": "code",
      "metadata": {
        "colab_type": "code",
        "id": "jwRKXOLTYdh4",
        "colab": {}
      },
      "source": [
        "scores_selected = myModel_selected.evaluate(X_test, y_test_hot, verbose=1)"
      ],
      "execution_count": 0,
      "outputs": []
    },
    {
      "cell_type": "code",
      "metadata": {
        "colab_type": "code",
        "id": "VANETR3yYdh0",
        "colab": {}
      },
      "source": [
        "print('Test loss    :', scores_selected[0])\n",
        "print('Test accuracy: %.2f%%' % (scores_selected[1]*100))"
      ],
      "execution_count": 0,
      "outputs": []
    },
    {
      "cell_type": "markdown",
      "metadata": {
        "colab_type": "text",
        "id": "huwvhAnSYdhx"
      },
      "source": [
        "# Train Cut Model"
      ]
    },
    {
      "cell_type": "code",
      "metadata": {
        "colab_type": "code",
        "id": "LxBUbkEQYdhs",
        "colab": {}
      },
      "source": [
        "model = VGG16(weights='imagenet', include_top=False, input_shape=input_shape, pooling='avg')\n",
        "\n",
        "for i, layer in enumerate(model.layers):\n",
        "    print(i, layer.name)"
      ],
      "execution_count": 0,
      "outputs": []
    },
    {
      "cell_type": "code",
      "metadata": {
        "colab_type": "code",
        "id": "zWvFS-1bYdho",
        "colab": {}
      },
      "source": [
        "# Extract the last layer from third block of vgg16 model\n",
        "last = model.get_layer('block4_conv3').output\n",
        "\n",
        "# model baru\n",
        "x = GlobalAveragePooling2D()(last)\n",
        "x = Dense(1024, activation='relu')(x)\n",
        "predictions = Dense(10, activation='softmax')(x)\n",
        "\n",
        "myModel_cut = Model(inputs=model.input, outputs=predictions, name='VGG Cut')\n",
        "myModel_cut.summary()"
      ],
      "execution_count": 0,
      "outputs": []
    },
    {
      "cell_type": "code",
      "metadata": {
        "colab_type": "code",
        "id": "BYFnVVPWYdhj",
        "colab": {}
      },
      "source": [
        "myModel_cut.compile(loss='categorical_crossentropy',\n",
        "                        optimizer=opt, metrics=['accuracy'])\n"
      ],
      "execution_count": 0,
      "outputs": []
    },
    {
      "cell_type": "code",
      "metadata": {
        "colab_type": "code",
        "id": "AUw7KS51Ydhf",
        "colab": {}
      },
      "source": [
        "hist_cut = myModel_cut.fit(X_train, y_train_hot,\n",
        "                    batch_size=batch_size,\n",
        "                    epochs=epochs,\n",
        "                    validation_data=(X_val, y_val_hot),\n",
        "                    shuffle=True)"
      ],
      "execution_count": 0,
      "outputs": []
    },
    {
      "cell_type": "code",
      "metadata": {
        "colab_type": "code",
        "id": "mhm_rlkCYdhZ",
        "colab": {}
      },
      "source": [
        "plt.rcParams['figure.figsize'] = [7, 5]\n",
        "\n",
        "plt.plot(hist_cut.history['acc'], label='train')\n",
        "plt.plot(hist_cut.history['val_acc'], label='val')\n",
        "plt.xlabel('Epoch')\n",
        "plt.ylabel('Accuracy')\n",
        "plt.legend()\n",
        "plt.show()\n"
      ],
      "execution_count": 0,
      "outputs": []
    },
    {
      "cell_type": "code",
      "metadata": {
        "colab_type": "code",
        "id": "fZ2AclW_YdhV",
        "colab": {}
      },
      "source": [
        "plt.rcParams['figure.figsize'] = [15, 5]\n",
        "\n",
        "plt.subplot(1, 2, 1)\n",
        "plt.plot(hist_scratch.history['acc'], label='scratch')\n",
        "plt.plot(hist_aug.history['acc'], label='aug')\n",
        "plt.plot(hist_imagenet.history['acc'], label='imagenet')\n",
        "plt.plot(hist_fc.history['acc'], label='fc')\n",
        "plt.plot(hist_selected.history['acc'], label='selected')\n",
        "plt.plot(hist_cut.history['acc'], label='cut')\n",
        "plt.xlabel('Epoch')\n",
        "plt.ylabel('Train Acc')\n",
        "plt.legend()\n",
        "\n",
        "plt.subplot(1, 2, 2)\n",
        "plt.plot(hist_scratch.history['val_acc'], label='scratch')\n",
        "plt.plot(hist_aug.history['val_acc'], label='aug')\n",
        "plt.plot(hist_imagenet.history['val_acc'], label='imagenet')\n",
        "plt.plot(hist_fc.history['val_acc'], label='fc')\n",
        "plt.plot(hist_selected.history['val_acc'], label='selected')\n",
        "plt.plot(hist_cut.history['val_acc'], label='cut')\n",
        "plt.xlabel('Epoch')\n",
        "plt.ylabel('Val Acc')\n",
        "plt.legend()\n",
        "plt.show()\n",
        "\n"
      ],
      "execution_count": 0,
      "outputs": []
    },
    {
      "cell_type": "code",
      "metadata": {
        "colab_type": "code",
        "id": "I7CxuXXdYdhO",
        "colab": {}
      },
      "source": [
        "scores_cut = myModel_cut.evaluate(X_test, y_test_hot, verbose=1)"
      ],
      "execution_count": 0,
      "outputs": []
    },
    {
      "cell_type": "code",
      "metadata": {
        "colab_type": "code",
        "id": "A5NS0iV2YdhI",
        "colab": {}
      },
      "source": [
        "print('Test loss    :', scores_cut[0])\n",
        "print('Test accuracy: %.2f%%' % (scores_cut[1]*100))"
      ],
      "execution_count": 0,
      "outputs": []
    },
    {
      "cell_type": "markdown",
      "metadata": {
        "colab_type": "text",
        "id": "ly4LCUQTYdhE"
      },
      "source": [
        "# Overall Scores"
      ]
    },
    {
      "cell_type": "code",
      "metadata": {
        "colab_type": "code",
        "id": "4XLOw7yJYdgw",
        "colab": {}
      },
      "source": [
        "labels = ['scratch', 'augmented', 'imagenet','fc layer','selected','cut']\n",
        "y_pos = np.arange(len(labels))\n",
        "test_scores = [scores_scratch[1],scores_aug[1],scores_imagenet[1],scores_fc[1],scores_selected[1],scores_cut[1]]\n",
        "val_scores = [hist_scratch.history['val_acc'][-1],hist_aug.history['val_acc'][-1],\n",
        "              hist_imagenet.history['val_acc'][-1],hist_fc.history['val_acc'][-1],\n",
        "              hist_selected.history['val_acc'][-1],hist_cut.history['val_acc'][-1]]\n",
        "\n",
        "plt.bar(y_pos, val_scores, .4, color='g',alpha=0.5, label='val acc')\n",
        "plt.bar(y_pos+.41, test_scores, .4, color='b',alpha=0.5, label='test acc')\n",
        "plt.xticks(y_pos+.2, labels)\n",
        "plt.ylabel('Accuracy')\n",
        "plt.title('Overall Scores')\n",
        "plt.ylim((.5,.8))\n",
        "plt.legend()\n",
        "\n",
        "plt.show()"
      ],
      "execution_count": 0,
      "outputs": []
    },
    {
      "cell_type": "markdown",
      "metadata": {
        "id": "uB_ojCQ6zmKS",
        "colab_type": "text"
      },
      "source": [
        "<p>Copyright &copy; 2019 <a href=https://www.linkedin.com/in/andityaarifianto/>ADF</a> </p>"
      ]
    }
  ]
}