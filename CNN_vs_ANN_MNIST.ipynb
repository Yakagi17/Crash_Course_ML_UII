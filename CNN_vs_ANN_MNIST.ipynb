{
  "nbformat": 4,
  "nbformat_minor": 0,
  "metadata": {
    "colab": {
      "name": "CNN vs ANN MNIST",
      "provenance": [],
      "collapsed_sections": [],
      "include_colab_link": true
    },
    "kernelspec": {
      "name": "python3",
      "display_name": "Python 3"
    },
    "accelerator": "GPU"
  },
  "cells": [
    {
      "cell_type": "markdown",
      "metadata": {
        "id": "view-in-github",
        "colab_type": "text"
      },
      "source": [
        "<a href=\"https://colab.research.google.com/github/Yakagi17/Transfer_Learning_FGA_UII/blob/master/CNN_vs_ANN_MNIST.ipynb\" target=\"_parent\"><img src=\"https://colab.research.google.com/assets/colab-badge.svg\" alt=\"Open In Colab\"/></a>"
      ]
    },
    {
      "cell_type": "markdown",
      "metadata": {
        "id": "Kdq4txp6In1H",
        "colab_type": "text"
      },
      "source": [
        "---\n",
        "# MNIST Dataset \n",
        "\n",
        "\n",
        "Make sure this Colab runs on GPU\n"
      ]
    },
    {
      "cell_type": "code",
      "metadata": {
        "id": "GrnacNg8In1K",
        "colab_type": "code",
        "colab": {}
      },
      "source": [
        "import numpy as np\n",
        "import matplotlib.pyplot as plt\n",
        "%matplotlib inline\n",
        "\n",
        "np.set_printoptions(precision=7)"
      ],
      "execution_count": 0,
      "outputs": []
    },
    {
      "cell_type": "markdown",
      "metadata": {
        "id": "tz9rpwvIIn1T",
        "colab_type": "text"
      },
      "source": [
        "---\n",
        "## Load MNIST Dataset \n",
        "\n",
        "\n",
        "\n"
      ]
    },
    {
      "cell_type": "code",
      "metadata": {
        "id": "e9lcWKk9In1U",
        "colab_type": "code",
        "outputId": "50fe7e39-b2a1-42a4-cd6f-dd13b846c78a",
        "colab": {
          "base_uri": "https://localhost:8080/",
          "height": 82
        }
      },
      "source": [
        "import tensorflow as tf\n",
        "tf.__version__"
      ],
      "execution_count": 0,
      "outputs": [
        {
          "output_type": "display_data",
          "data": {
            "text/html": [
              "<p style=\"color: red;\">\n",
              "The default version of TensorFlow in Colab will soon switch to TensorFlow 2.x.<br>\n",
              "We recommend you <a href=\"https://www.tensorflow.org/guide/migrate\" target=\"_blank\">upgrade</a> now \n",
              "or ensure your notebook will continue to use TensorFlow 1.x via the <code>%tensorflow_version 1.x</code> magic:\n",
              "<a href=\"https://colab.research.google.com/notebooks/tensorflow_version.ipynb\" target=\"_blank\">more info</a>.</p>\n"
            ],
            "text/plain": [
              "<IPython.core.display.HTML object>"
            ]
          },
          "metadata": {
            "tags": []
          }
        },
        {
          "output_type": "execute_result",
          "data": {
            "text/plain": [
              "'1.15.0'"
            ]
          },
          "metadata": {
            "tags": []
          },
          "execution_count": 2
        }
      ]
    },
    {
      "cell_type": "code",
      "metadata": {
        "id": "60RbyNV3ndcu",
        "colab_type": "code",
        "outputId": "95bd8f28-9ac8-4561-b288-b155d00373df",
        "colab": {
          "base_uri": "https://localhost:8080/",
          "height": 124
        }
      },
      "source": [
        "# http://yann.lecun.com/exdb/mnist/\n",
        "(X_train, y_train), (X_test, y_test) = tf.keras.datasets.mnist.load_data()\n",
        "\n",
        "print('X_train.shape =',X_train.shape)\n",
        "print('y_train.shape =',y_train.shape)\n",
        "print('X_test.shape  =',X_test.shape)\n",
        "print('y_test.shape  =',y_test.shape)"
      ],
      "execution_count": 0,
      "outputs": [
        {
          "output_type": "stream",
          "text": [
            "Downloading data from https://storage.googleapis.com/tensorflow/tf-keras-datasets/mnist.npz\n",
            "11493376/11490434 [==============================] - 0s 0us/step\n",
            "X_train.shape = (60000, 28, 28)\n",
            "y_train.shape = (60000,)\n",
            "X_test.shape  = (10000, 28, 28)\n",
            "y_test.shape  = (10000,)\n"
          ],
          "name": "stdout"
        }
      ]
    },
    {
      "cell_type": "markdown",
      "metadata": {
        "id": "9rhC32AWIn1Z",
        "colab_type": "text"
      },
      "source": [
        "---\n",
        "## MNIST Dataset Visualization\n"
      ]
    },
    {
      "cell_type": "code",
      "metadata": {
        "id": "Zk4QVV87In1b",
        "colab_type": "code",
        "outputId": "ee0c6c48-475e-4fc8-8830-427e6466573f",
        "colab": {
          "base_uri": "https://localhost:8080/",
          "height": 252
        }
      },
      "source": [
        "fig, ax = plt.subplots(2,10,figsize=(15,4.5))\n",
        "fig.subplots_adjust(hspace=0.1, wspace=0.1)\n",
        "for j in range(0,2):\n",
        "    for i in range(0, 10):\n",
        "        ax[j,i].imshow(X_train[i+j*10], cmap='gray')\n",
        "        ax[j,i].set_title(y_train[i+j*10])\n",
        "        ax[j,i].axis('off')\n",
        "plt.show()"
      ],
      "execution_count": 0,
      "outputs": [
        {
          "output_type": "display_data",
          "data": {
            "image/png": "[encoded data removed]",
            "text/plain": [
              "<Figure size 1080x324 with 20 Axes>"
            ]
          },
          "metadata": {
            "tags": []
          }
        }
      ]
    },
    {
      "cell_type": "code",
      "metadata": {
        "id": "V71q0HiU3vZI",
        "colab_type": "code",
        "outputId": "8e284b94-1f8c-4bff-83e5-72316814d2f9",
        "colab": {
          "base_uri": "https://localhost:8080/",
          "height": 35
        }
      },
      "source": [
        "np.shape(X_train[1])"
      ],
      "execution_count": 0,
      "outputs": [
        {
          "output_type": "execute_result",
          "data": {
            "text/plain": [
              "(28, 28)"
            ]
          },
          "metadata": {
            "tags": []
          },
          "execution_count": 5
        }
      ]
    },
    {
      "cell_type": "markdown",
      "metadata": {
        "id": "uhUO9G5MIn1g",
        "colab_type": "text"
      },
      "source": [
        "---\n",
        "## Data Splitting (Validation and Train)\n"
      ]
    },
    {
      "cell_type": "code",
      "metadata": {
        "id": "oCSjAqPzIn1i",
        "colab_type": "code",
        "outputId": "21fd5537-d8a8-4b80-8468-585e99dc83a8",
        "colab": {
          "base_uri": "https://localhost:8080/",
          "height": 88
        }
      },
      "source": [
        "X_val = X_train[-10000:,:]\n",
        "y_val = y_train[-10000:]\n",
        "\n",
        "X_train = X_train[:-10000, :]\n",
        "y_train = y_train[:-10000]\n",
        "\n",
        "print('X_val.shape   =',X_val.shape)\n",
        "print('y_val.shape   =',y_val.shape)\n",
        "print('X_train.shape =',X_train.shape)\n",
        "print('y_train.shape =',y_train.shape)"
      ],
      "execution_count": 0,
      "outputs": [
        {
          "output_type": "stream",
          "text": [
            "X_val.shape   = (10000, 28, 28)\n",
            "y_val.shape   = (10000,)\n",
            "X_train.shape = (50000, 28, 28)\n",
            "y_train.shape = (50000,)\n"
          ],
          "name": "stdout"
        }
      ]
    },
    {
      "cell_type": "markdown",
      "metadata": {
        "id": "ZonG85IOIn1o",
        "colab_type": "text"
      },
      "source": [
        "---\n",
        "## Data Preparation"
      ]
    },
    {
      "cell_type": "code",
      "metadata": {
        "id": "yfEl2gZJIn1p",
        "colab_type": "code",
        "outputId": "29e2d9e3-4820-4914-863b-d3644379e4a8",
        "colab": {
          "base_uri": "https://localhost:8080/",
          "height": 70
        }
      },
      "source": [
        "# a batch of image as input\n",
        "X_train = X_train.astype('float32')\n",
        "X_val = X_val.astype('float32')\n",
        "X_test = X_test.astype('float32')\n",
        "\n",
        "X_train = np.expand_dims(X_train,-1)\n",
        "X_val = np.expand_dims(X_val,-1)\n",
        "X_test = np.expand_dims(X_test,-1)\n",
        "\n",
        "print('X_train.shape =',X_train.shape)\n",
        "print('X_val.shape   =',X_val.shape)\n",
        "print('X_test.shape  =',X_test.shape)\n"
      ],
      "execution_count": 0,
      "outputs": [
        {
          "output_type": "stream",
          "text": [
            "X_train.shape = (50000, 28, 28, 1)\n",
            "X_val.shape   = (10000, 28, 28, 1)\n",
            "X_test.shape  = (10000, 28, 28, 1)\n"
          ],
          "name": "stdout"
        }
      ]
    },
    {
      "cell_type": "markdown",
      "metadata": {
        "id": "rQohd54TIn1x",
        "colab_type": "text"
      },
      "source": [
        "---\n",
        "## One Hot Matrix\n",
        "\n"
      ]
    },
    {
      "cell_type": "markdown",
      "metadata": {
        "id": "kveJWXJYIn14",
        "colab_type": "text"
      },
      "source": [
        " `y_train`, `y_val`, dan `y_test` vector are converted to One-Hot Matrix"
      ]
    },
    {
      "cell_type": "code",
      "metadata": {
        "id": "neQU8KqDIn1_",
        "colab_type": "code",
        "outputId": "87c4f9a8-eceb-4122-d345-db3904585d54",
        "colab": {
          "base_uri": "https://localhost:8080/",
          "height": 70
        }
      },
      "source": [
        "from tensorflow.keras.utils import to_categorical\n",
        "\n",
        "y_train_hot = to_categorical(y_train.ravel(), 10)\n",
        "y_val_hot = to_categorical(y_val.ravel(), 10)\n",
        "y_test_hot = to_categorical(y_test.ravel(), 10)\n",
        "\n",
        "print('y_train_hot.shape =',y_train_hot.shape)\n",
        "print('y_val_hot.shape   =',y_val_hot.shape)\n",
        "print('y_test_hot.shape  =',y_test_hot.shape)"
      ],
      "execution_count": 0,
      "outputs": [
        {
          "output_type": "stream",
          "text": [
            "y_train_hot.shape = (50000, 10)\n",
            "y_val_hot.shape   = (10000, 10)\n",
            "y_test_hot.shape  = (10000, 10)\n"
          ],
          "name": "stdout"
        }
      ]
    },
    {
      "cell_type": "markdown",
      "metadata": {
        "id": "OjqzwPUJIn4n",
        "colab_type": "text"
      },
      "source": [
        "---\n",
        "\n",
        "# Three-Layer Neural Network\n",
        "\n",
        "3-layer Artificial Neural Network is built to classify MNIST datasets"
      ]
    },
    {
      "cell_type": "markdown",
      "metadata": {
        "id": "34l5N13yIn5O",
        "colab_type": "text"
      },
      "source": [
        "---\n",
        "## Import Module\n",
        "\n"
      ]
    },
    {
      "cell_type": "code",
      "metadata": {
        "id": "k98ABsZD_q5w",
        "colab_type": "code",
        "colab": {}
      },
      "source": [
        "from tensorflow.keras.models import Sequential\n",
        "from tensorflow.keras.layers import Flatten\n",
        "from tensorflow.keras.layers import Dense\n",
        "\n",
        "num_data    = X_train.shape[0]\n",
        "X_dim       = X_train.shape[1]\n",
        "num_classes = y_train_hot.shape[1]"
      ],
      "execution_count": 0,
      "outputs": []
    },
    {
      "cell_type": "markdown",
      "metadata": {
        "id": "wElcpSCg_q5v",
        "colab_type": "text"
      },
      "source": [
        "---\n",
        "## Neural Network Model \n"
      ]
    },
    {
      "cell_type": "code",
      "metadata": {
        "id": "R0xzjgWQ_q56",
        "colab_type": "code",
        "outputId": "378d2fd0-96ad-4622-922a-2af758fb9e9a",
        "colab": {
          "base_uri": "https://localhost:8080/",
          "height": 375
        }
      },
      "source": [
        "# create model compact sequential (https://www.tensorflow.org/guide/keras/overview)\n",
        "\n",
        "model_ann = Sequential([\n",
        "  Flatten(input_shape=(28,28,1)),\n",
        "  Dense(500, activation=\"relu\"),\n",
        "  Dense(200, activation=\"relu\"),\n",
        "  Dense(num_classes, activation=\"softmax\")\n",
        "])\n",
        "\n",
        "model_ann.summary()"
      ],
      "execution_count": 0,
      "outputs": [
        {
          "output_type": "stream",
          "text": [
            "WARNING:tensorflow:From /usr/local/lib/python3.6/dist-packages/tensorflow_core/python/ops/resource_variable_ops.py:1630: calling BaseResourceVariable.__init__ (from tensorflow.python.ops.resource_variable_ops) with constraint is deprecated and will be removed in a future version.\n",
            "Instructions for updating:\n",
            "If using Keras pass *_constraint arguments to layers.\n",
            "Model: \"sequential\"\n",
            "_________________________________________________________________\n",
            "Layer (type)                 Output Shape              Param #   \n",
            "=================================================================\n",
            "flatten (Flatten)            (None, 784)               0         \n",
            "_________________________________________________________________\n",
            "dense (Dense)                (None, 500)               392500    \n",
            "_________________________________________________________________\n",
            "dense_1 (Dense)              (None, 200)               100200    \n",
            "_________________________________________________________________\n",
            "dense_2 (Dense)              (None, 10)                2010      \n",
            "=================================================================\n",
            "Total params: 494,710\n",
            "Trainable params: 494,710\n",
            "Non-trainable params: 0\n",
            "_________________________________________________________________\n"
          ],
          "name": "stdout"
        }
      ]
    },
    {
      "cell_type": "markdown",
      "metadata": {
        "id": "pmDso_8jIn5V",
        "colab_type": "text"
      },
      "source": [
        "---\n",
        "## Training"
      ]
    },
    {
      "cell_type": "code",
      "metadata": {
        "id": "lR9WhzsFIn5V",
        "colab_type": "code",
        "outputId": "93d86302-a098-4117-b99d-f7b8224fe749",
        "colab": {
          "base_uri": "https://localhost:8080/",
          "height": 568
        }
      },
      "source": [
        "# Compile model\n",
        "model_ann.compile(loss='categorical_crossentropy', \n",
        "              optimizer='adam', metrics=['accuracy'])\n",
        "\n",
        "\n",
        "num_epochs = 15\n",
        "batch_size = 1000 \n",
        "hist_ann = model_ann.fit(X_train, y_train_hot, \n",
        "          validation_data=(X_val, y_val_hot),\n",
        "          epochs=num_epochs, batch_size=batch_size, \n",
        "          verbose=2)"
      ],
      "execution_count": 0,
      "outputs": [
        {
          "output_type": "stream",
          "text": [
            "Train on 50000 samples, validate on 10000 samples\n",
            "Epoch 1/15\n",
            "50000/50000 - 2s - loss: 11.2170 - acc: 0.8057 - val_loss: 1.5661 - val_acc: 0.9131\n",
            "Epoch 2/15\n",
            "50000/50000 - 0s - loss: 1.0463 - acc: 0.9251 - val_loss: 0.8897 - val_acc: 0.9266\n",
            "Epoch 3/15\n",
            "50000/50000 - 0s - loss: 0.5518 - acc: 0.9470 - val_loss: 0.6981 - val_acc: 0.9356\n",
            "Epoch 4/15\n",
            "50000/50000 - 0s - loss: 0.3220 - acc: 0.9619 - val_loss: 0.6558 - val_acc: 0.9399\n",
            "Epoch 5/15\n",
            "50000/50000 - 0s - loss: 0.2127 - acc: 0.9705 - val_loss: 0.5762 - val_acc: 0.9453\n",
            "Epoch 6/15\n",
            "50000/50000 - 0s - loss: 0.1412 - acc: 0.9775 - val_loss: 0.5715 - val_acc: 0.9465\n",
            "Epoch 7/15\n",
            "50000/50000 - 0s - loss: 0.0877 - acc: 0.9836 - val_loss: 0.5390 - val_acc: 0.9478\n",
            "Epoch 8/15\n",
            "50000/50000 - 0s - loss: 0.0518 - acc: 0.9887 - val_loss: 0.5139 - val_acc: 0.9504\n",
            "Epoch 9/15\n",
            "50000/50000 - 0s - loss: 0.0345 - acc: 0.9917 - val_loss: 0.5150 - val_acc: 0.9507\n",
            "Epoch 10/15\n",
            "50000/50000 - 0s - loss: 0.0236 - acc: 0.9935 - val_loss: 0.5235 - val_acc: 0.9514\n",
            "Epoch 11/15\n",
            "50000/50000 - 0s - loss: 0.0153 - acc: 0.9958 - val_loss: 0.4907 - val_acc: 0.9534\n",
            "Epoch 12/15\n",
            "50000/50000 - 0s - loss: 0.0098 - acc: 0.9973 - val_loss: 0.4838 - val_acc: 0.9545\n",
            "Epoch 13/15\n",
            "50000/50000 - 0s - loss: 0.0061 - acc: 0.9985 - val_loss: 0.4929 - val_acc: 0.9549\n",
            "Epoch 14/15\n",
            "50000/50000 - 0s - loss: 0.0032 - acc: 0.9992 - val_loss: 0.4931 - val_acc: 0.9552\n",
            "Epoch 15/15\n",
            "50000/50000 - 0s - loss: 0.0018 - acc: 0.9994 - val_loss: 0.4920 - val_acc: 0.9554\n"
          ],
          "name": "stdout"
        }
      ]
    },
    {
      "cell_type": "markdown",
      "metadata": {
        "id": "3ibLtwIAIn5V",
        "colab_type": "text"
      },
      "source": [
        "---\n",
        "## Evaluation\n"
      ]
    },
    {
      "cell_type": "code",
      "metadata": {
        "id": "VTD6WFU2In5W",
        "colab_type": "code",
        "outputId": "e48ad995-9d3f-4e4f-c238-ef1c62086768",
        "colab": {
          "base_uri": "https://localhost:8080/",
          "height": 70
        }
      },
      "source": [
        "scores_ann = model_ann.evaluate(X_test, y_test_hot, verbose=1)\n",
        "print(\"\\nModel Accuracy: %.2f%%\" % (scores_ann[1]*100))"
      ],
      "execution_count": 0,
      "outputs": [
        {
          "output_type": "stream",
          "text": [
            "10000/10000 [==============================] - 1s 78us/sample - loss: 0.5324 - acc: 0.9531\n",
            "\n",
            "Model Accuracy: 95.31%\n"
          ],
          "name": "stdout"
        }
      ]
    },
    {
      "cell_type": "markdown",
      "metadata": {
        "colab_type": "text",
        "id": "ld_C6JC4olXG"
      },
      "source": [
        "---\n",
        "\n",
        "# Three-Layer Convolutional Neural Network\n",
        "3-layer Convolutional Neural Network is built to classify MNIST datasets\n"
      ]
    },
    {
      "cell_type": "markdown",
      "metadata": {
        "colab_type": "text",
        "id": "eTtsOpepolXN"
      },
      "source": [
        "---\n",
        "## Import Module\n",
        "\n"
      ]
    },
    {
      "cell_type": "code",
      "metadata": {
        "colab_type": "code",
        "id": "mYdhz2T2olXS",
        "colab": {}
      },
      "source": [
        "from tensorflow.keras.layers import Conv2D\n",
        "from tensorflow.keras.layers import MaxPooling2D"
      ],
      "execution_count": 0,
      "outputs": []
    },
    {
      "cell_type": "markdown",
      "metadata": {
        "colab_type": "text",
        "id": "D_BNctCnolXZ"
      },
      "source": [
        "---\n",
        "## Convolutional Neural Network Model\n"
      ]
    },
    {
      "cell_type": "code",
      "metadata": {
        "colab_type": "code",
        "id": "n7uDuN9BolXc",
        "outputId": "e5513f76-17b2-4720-893f-f3bcab429b47",
        "colab": {
          "base_uri": "https://localhost:8080/",
          "height": 337
        }
      },
      "source": [
        "# create model compact sequential\n",
        "\n",
        "model_cnn = Sequential([\n",
        "  Conv2D(32,(5,5),input_shape=(28,28,1), padding='same', activation=\"relu\"),\n",
        "  Conv2D(32,(5,5), padding='same', activation=\"relu\"),\n",
        "  MaxPooling2D(),\n",
        "  Flatten(),\n",
        "  Dense(num_classes, activation=\"softmax\")\n",
        "])\n",
        "\n",
        "model_cnn.summary()"
      ],
      "execution_count": 0,
      "outputs": [
        {
          "output_type": "stream",
          "text": [
            "Model: \"sequential_1\"\n",
            "_________________________________________________________________\n",
            "Layer (type)                 Output Shape              Param #   \n",
            "=================================================================\n",
            "conv2d (Conv2D)              (None, 28, 28, 32)        832       \n",
            "_________________________________________________________________\n",
            "conv2d_1 (Conv2D)            (None, 28, 28, 32)        25632     \n",
            "_________________________________________________________________\n",
            "max_pooling2d (MaxPooling2D) (None, 14, 14, 32)        0         \n",
            "_________________________________________________________________\n",
            "flatten_1 (Flatten)          (None, 6272)              0         \n",
            "_________________________________________________________________\n",
            "dense_3 (Dense)              (None, 10)                62730     \n",
            "=================================================================\n",
            "Total params: 89,194\n",
            "Trainable params: 89,194\n",
            "Non-trainable params: 0\n",
            "_________________________________________________________________\n"
          ],
          "name": "stdout"
        }
      ]
    },
    {
      "cell_type": "markdown",
      "metadata": {
        "colab_type": "text",
        "id": "DNJmngIeolXm"
      },
      "source": [
        "---\n",
        "## Training"
      ]
    },
    {
      "cell_type": "code",
      "metadata": {
        "colab_type": "code",
        "id": "j7-hIlWEolXo",
        "outputId": "aade989d-77ae-4feb-e55b-df8bf97d0406",
        "colab": {
          "base_uri": "https://localhost:8080/",
          "height": 568
        }
      },
      "source": [
        "# Compile model\n",
        "model_cnn.compile(loss='categorical_crossentropy', \n",
        "              optimizer='adam', metrics=['accuracy'])\n",
        "\n",
        "\n",
        "num_epochs = 15\n",
        "batch_size = 1000\n",
        "\n",
        "hist_cnn = model_cnn.fit(X_train, y_train_hot, \n",
        "          validation_data=(X_val, y_val_hot),\n",
        "          epochs=num_epochs, batch_size=batch_size, \n",
        "          verbose=2)"
      ],
      "execution_count": 0,
      "outputs": [
        {
          "output_type": "stream",
          "text": [
            "Train on 50000 samples, validate on 10000 samples\n",
            "Epoch 1/15\n",
            "50000/50000 - 8s - loss: 3.1773 - acc: 0.7078 - val_loss: 0.2551 - val_acc: 0.9243\n",
            "Epoch 2/15\n",
            "50000/50000 - 3s - loss: 0.1945 - acc: 0.9402 - val_loss: 0.1237 - val_acc: 0.9626\n",
            "Epoch 3/15\n",
            "50000/50000 - 3s - loss: 0.1148 - acc: 0.9640 - val_loss: 0.0938 - val_acc: 0.9714\n",
            "Epoch 4/15\n",
            "50000/50000 - 3s - loss: 0.0841 - acc: 0.9728 - val_loss: 0.0790 - val_acc: 0.9768\n",
            "Epoch 5/15\n",
            "50000/50000 - 3s - loss: 0.0657 - acc: 0.9794 - val_loss: 0.0687 - val_acc: 0.9796\n",
            "Epoch 6/15\n",
            "50000/50000 - 3s - loss: 0.0544 - acc: 0.9829 - val_loss: 0.0659 - val_acc: 0.9807\n",
            "Epoch 7/15\n",
            "50000/50000 - 3s - loss: 0.0472 - acc: 0.9846 - val_loss: 0.0619 - val_acc: 0.9820\n",
            "Epoch 8/15\n",
            "50000/50000 - 3s - loss: 0.0409 - acc: 0.9868 - val_loss: 0.0598 - val_acc: 0.9838\n",
            "Epoch 9/15\n",
            "50000/50000 - 3s - loss: 0.0349 - acc: 0.9887 - val_loss: 0.0591 - val_acc: 0.9835\n",
            "Epoch 10/15\n",
            "50000/50000 - 3s - loss: 0.0296 - acc: 0.9904 - val_loss: 0.0587 - val_acc: 0.9834\n",
            "Epoch 11/15\n",
            "50000/50000 - 3s - loss: 0.0283 - acc: 0.9912 - val_loss: 0.0589 - val_acc: 0.9839\n",
            "Epoch 12/15\n",
            "50000/50000 - 3s - loss: 0.0240 - acc: 0.9925 - val_loss: 0.0584 - val_acc: 0.9839\n",
            "Epoch 13/15\n",
            "50000/50000 - 3s - loss: 0.0205 - acc: 0.9940 - val_loss: 0.0570 - val_acc: 0.9853\n",
            "Epoch 14/15\n",
            "50000/50000 - 3s - loss: 0.0187 - acc: 0.9947 - val_loss: 0.0629 - val_acc: 0.9838\n",
            "Epoch 15/15\n",
            "50000/50000 - 3s - loss: 0.0172 - acc: 0.9947 - val_loss: 0.0580 - val_acc: 0.9847\n"
          ],
          "name": "stdout"
        }
      ]
    },
    {
      "cell_type": "markdown",
      "metadata": {
        "colab_type": "text",
        "id": "0BUZEHLMolXr"
      },
      "source": [
        "---\n",
        "## Evaluation\n"
      ]
    },
    {
      "cell_type": "code",
      "metadata": {
        "colab_type": "code",
        "id": "lAmucgajolXt",
        "outputId": "4cca3b0e-6a30-4b97-9c58-e8d1b8957931",
        "colab": {
          "base_uri": "https://localhost:8080/",
          "height": 70
        }
      },
      "source": [
        "scores_cnn = model_cnn.evaluate(X_test, y_test_hot, verbose=1)\n",
        "print(\"\\nModel Accuracy: %.2f%%\" % (scores_cnn[1]*100))"
      ],
      "execution_count": 0,
      "outputs": [
        {
          "output_type": "stream",
          "text": [
            "10000/10000 [==============================] - 1s 102us/sample - loss: 0.0538 - acc: 0.9844\n",
            "\n",
            "Model Accuracy: 98.44%\n"
          ],
          "name": "stdout"
        }
      ]
    },
    {
      "cell_type": "markdown",
      "metadata": {
        "id": "NnkdHf-gsn3R",
        "colab_type": "text"
      },
      "source": [
        "---\n",
        "# Comparison of ANN and CNN\n"
      ]
    },
    {
      "cell_type": "markdown",
      "metadata": {
        "id": "_HIuWVyzssQ-",
        "colab_type": "text"
      },
      "source": [
        "---\n",
        "## Number of Parameter"
      ]
    },
    {
      "cell_type": "code",
      "metadata": {
        "id": "rucd-dstsrBF",
        "colab_type": "code",
        "outputId": "8438dd3a-cfc9-41ae-e4c0-7b2e5dafaa9c",
        "colab": {
          "base_uri": "https://localhost:8080/",
          "height": 692
        }
      },
      "source": [
        "print('ANN model :')\n",
        "model_ann.summary()\n",
        "\n",
        "print('\\n\\nCNN model :')\n",
        "model_cnn.summary()"
      ],
      "execution_count": 0,
      "outputs": [
        {
          "output_type": "stream",
          "text": [
            "ANN model :\n",
            "Model: \"sequential\"\n",
            "_________________________________________________________________\n",
            "Layer (type)                 Output Shape              Param #   \n",
            "=================================================================\n",
            "flatten (Flatten)            (None, 784)               0         \n",
            "_________________________________________________________________\n",
            "dense (Dense)                (None, 500)               392500    \n",
            "_________________________________________________________________\n",
            "dense_1 (Dense)              (None, 200)               100200    \n",
            "_________________________________________________________________\n",
            "dense_2 (Dense)              (None, 10)                2010      \n",
            "=================================================================\n",
            "Total params: 494,710\n",
            "Trainable params: 494,710\n",
            "Non-trainable params: 0\n",
            "_________________________________________________________________\n",
            "\n",
            "\n",
            "CNN model :\n",
            "Model: \"sequential_1\"\n",
            "_________________________________________________________________\n",
            "Layer (type)                 Output Shape              Param #   \n",
            "=================================================================\n",
            "conv2d (Conv2D)              (None, 28, 28, 32)        832       \n",
            "_________________________________________________________________\n",
            "conv2d_1 (Conv2D)            (None, 28, 28, 32)        25632     \n",
            "_________________________________________________________________\n",
            "max_pooling2d (MaxPooling2D) (None, 14, 14, 32)        0         \n",
            "_________________________________________________________________\n",
            "flatten_1 (Flatten)          (None, 6272)              0         \n",
            "_________________________________________________________________\n",
            "dense_3 (Dense)              (None, 10)                62730     \n",
            "=================================================================\n",
            "Total params: 89,194\n",
            "Trainable params: 89,194\n",
            "Non-trainable params: 0\n",
            "_________________________________________________________________\n"
          ],
          "name": "stdout"
        }
      ]
    },
    {
      "cell_type": "markdown",
      "metadata": {
        "id": "eHpXFyZdtaLJ",
        "colab_type": "text"
      },
      "source": [
        "**ANN has 4x more parameters than CNN**"
      ]
    },
    {
      "cell_type": "code",
      "metadata": {
        "id": "cJph5BbhszSz",
        "colab_type": "code",
        "outputId": "367430b1-579f-4279-cbfd-c99aa8746b2e",
        "colab": {
          "base_uri": "https://localhost:8080/",
          "height": 52
        }
      },
      "source": [
        "print('ANN number of parameter:', f'{ model_ann.count_params():,}')\n",
        "print('CNN number of parameter:', f'{ model_cnn.count_params():,}')"
      ],
      "execution_count": 0,
      "outputs": [
        {
          "output_type": "stream",
          "text": [
            "ANN number of parameter: 494,710\n",
            "CNN number of parameter: 89,194\n"
          ],
          "name": "stdout"
        }
      ]
    },
    {
      "cell_type": "markdown",
      "metadata": {
        "id": "AAdNRfYCuJVB",
        "colab_type": "text"
      },
      "source": [
        "---\n",
        "## Training Result"
      ]
    },
    {
      "cell_type": "code",
      "metadata": {
        "id": "j6M2Nzr3uJ1S",
        "colab_type": "code",
        "outputId": "a75031f1-e706-4863-d5a6-df15523720b8",
        "colab": {
          "base_uri": "https://localhost:8080/",
          "height": 241
        }
      },
      "source": [
        "fig, ax = plt.subplots(1,3,figsize=(18,3))\n",
        "\n",
        "ax[0].plot(hist_ann.history['loss'])\n",
        "ax[0].plot(hist_cnn.history['loss'])\n",
        "ax[0].set_title('Train Loss')\n",
        "ax[0].set_ylabel('Loss')\n",
        "ax[0].set_xlabel('Epoch')\n",
        "ax[0].legend(['ANN', 'CNN'], loc='upper right')\n",
        "\n",
        "ax[1].plot(hist_ann.history['acc'])\n",
        "ax[1].plot(hist_cnn.history['acc'])\n",
        "ax[1].set_title('Train Accuracy')\n",
        "ax[1].set_ylabel('Accuracy')\n",
        "ax[1].set_xlabel('Epoch')\n",
        "ax[1].set_ylim(bottom=.7)\n",
        "ax[1].legend(['ANN', 'CNN'], loc='lower right')\n",
        "\n",
        "ax[2].plot(hist_ann.history['val_acc'])\n",
        "ax[2].plot(hist_cnn.history['val_acc'])\n",
        "ax[2].set_title('Validation Accuracy')\n",
        "ax[2].set_ylabel('Accuracy')\n",
        "ax[2].set_xlabel('Epoch')\n",
        "ax[2].set_ylim(bottom=.7)\n",
        "ax[2].legend(['ANN', 'CNN'], loc='lower right')\n",
        "plt.show()"
      ],
      "execution_count": 0,
      "outputs": [
        {
          "output_type": "display_data",
          "data": {
            "image/png": "[encoded data removed]",
            "text/plain": [
              "<Figure size 1296x216 with 3 Axes>"
            ]
          },
          "metadata": {
            "tags": []
          }
        }
      ]
    },
    {
      "cell_type": "markdown",
      "metadata": {
        "id": "UiN4exlAtfly",
        "colab_type": "text"
      },
      "source": [
        "---\n",
        "## Testing Accuracy"
      ]
    },
    {
      "cell_type": "code",
      "metadata": {
        "id": "RAbAilYSt0pD",
        "colab_type": "code",
        "outputId": "c6047ba3-81ac-4864-8ba9-626f5b84773f",
        "colab": {
          "base_uri": "https://localhost:8080/",
          "height": 52
        }
      },
      "source": [
        "print(\"ANN Accuracy: %.2f%%\" % (scores_ann[1]*100))\n",
        "print(\"CNN Accuracy: %.2f%%\" % (scores_cnn[1]*100))"
      ],
      "execution_count": 0,
      "outputs": [
        {
          "output_type": "stream",
          "text": [
            "ANN Accuracy: 95.31%\n",
            "CNN Accuracy: 98.44%\n"
          ],
          "name": "stdout"
        }
      ]
    },
    {
      "cell_type": "markdown",
      "metadata": {
        "id": "NfOgnKWBzs1L",
        "colab_type": "text"
      },
      "source": [
        "---\n",
        "## Overfitting Checking"
      ]
    },
    {
      "cell_type": "code",
      "metadata": {
        "id": "_B364ZEqzNw2",
        "colab_type": "code",
        "outputId": "4ba34733-c741-4cac-a214-8fc0e479d29c",
        "colab": {
          "base_uri": "https://localhost:8080/",
          "height": 241
        }
      },
      "source": [
        "fig, ax = plt.subplots(1,2,figsize=(10,3))\n",
        "\n",
        "ax[0].plot(hist_ann.history['acc'])\n",
        "ax[0].plot(hist_ann.history['val_acc'])\n",
        "ax[0].set_title('ANN Accuracy')\n",
        "ax[0].set_ylabel('Accuracy')\n",
        "ax[0].set_xlabel('Epoch')\n",
        "ax[0].set_ylim(.7,1.01)\n",
        "ax[0].legend(['train', 'val'], loc='lower right')\n",
        "\n",
        "ax[1].plot(hist_cnn.history['acc'])\n",
        "ax[1].plot(hist_cnn.history['val_acc'])\n",
        "ax[1].set_title('CNN Accuracy')\n",
        "ax[1].set_ylabel('Accuracy')\n",
        "ax[1].set_xlabel('Epoch')\n",
        "ax[1].set_ylim(.7,1.01)\n",
        "ax[1].legend(['train', 'val'], loc='lower right')\n",
        "plt.show()"
      ],
      "execution_count": 0,
      "outputs": [
        {
          "output_type": "display_data",
          "data": {
            "image/png": "[encoded data removed]",
            "text/plain": [
              "<Figure size 720x216 with 2 Axes>"
            ]
          },
          "metadata": {
            "tags": []
          }
        }
      ]
    },
    {
      "cell_type": "markdown",
      "metadata": {
        "id": "W4rIhU_-8-E_",
        "colab_type": "text"
      },
      "source": [
        "The greater the gap between training accuracy and validation, the more vulnerable it is to overfitting"
      ]
    },
    {
      "cell_type": "markdown",
      "metadata": {
        "id": "uB_ojCQ6zmKS",
        "colab_type": "text"
      },
      "source": [
        "<p>https://cognitiveclass.ai/ </p>"
      ]
    }
  ]
}